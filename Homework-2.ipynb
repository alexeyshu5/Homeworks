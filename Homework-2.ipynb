{
 "cells": [
  {
   "cell_type": "markdown",
   "metadata": {},
   "source": [
    "1) Дано целое число $x$. Проверить, является ли число положительным."
   ]
  },
  {
   "cell_type": "code",
   "execution_count": 2,
   "metadata": {},
   "outputs": [
    {
     "name": "stdout",
     "output_type": "stream",
     "text": [
      "yes\n"
     ]
    }
   ],
   "source": [
    "x = 5\n",
    "# put your code below:\n",
    "if x > 0:\n",
    "    print ('yes')"
   ]
  },
  {
   "cell_type": "markdown",
   "metadata": {},
   "source": [
    "2) Дано число $x$ типа float (с плавающей запятой). Проверить, является ли это число целым.\n",
    "\n",
    "*Hint: вспомнить преобразование типов, в частности integer*"
   ]
  },
  {
   "cell_type": "code",
   "execution_count": 1,
   "metadata": {},
   "outputs": [
    {
     "name": "stdout",
     "output_type": "stream",
     "text": [
      "True\n"
     ]
    }
   ],
   "source": [
    "x = 5.5 \n",
    "\n",
    "# при x = 1.0 должно вернуть True\n",
    "# put your code below:\n",
    "\n",
    "x = (type(\"{0:.0f}\".format(5.5)))\n",
    "if x == type('integer'):\n",
    "    print (True)\n",
    "else:\n",
    "    print (False)"
   ]
  },
  {
   "cell_type": "code",
   "execution_count": 3,
   "metadata": {},
   "outputs": [
    {
     "name": "stdout",
     "output_type": "stream",
     "text": [
      "False\n"
     ]
    }
   ],
   "source": [
    "x = 5.5 \n",
    "\n",
    "# при x = 1.0 должно вернуть True\n",
    "# put your code below:\n",
    "\n",
    "if x == (type ('integer')):\n",
    "    print ('True')\n",
    "else: \n",
    "    print ('False')\n",
    "    "
   ]
  },
  {
   "cell_type": "markdown",
   "metadata": {},
   "source": [
    "3) Дано целое $x$. Написать значение $|x|$ двумя способами: используя условия и используя библиотеку math"
   ]
  },
  {
   "cell_type": "code",
   "execution_count": 1,
   "metadata": {},
   "outputs": [
    {
     "name": "stdout",
     "output_type": "stream",
     "text": [
      "4\n"
     ]
    }
   ],
   "source": [
    "x = -4\n",
    "# put your code below:\n",
    "if x == -4:\n",
    "    print (x * -1)"
   ]
  },
  {
   "cell_type": "code",
   "execution_count": 1,
   "metadata": {},
   "outputs": [
    {
     "name": "stdout",
     "output_type": "stream",
     "text": [
      "4.0\n"
     ]
    }
   ],
   "source": [
    "x = -4\n",
    "# put your code below:\n",
    "import math\n",
    "print (math.fabs (x))"
   ]
  },
  {
   "cell_type": "markdown",
   "metadata": {},
   "source": [
    "4) Даны числа $a$ и $b$. Если $a$ делится на $b$ написать \"делится\", иначе написать остаток от деления."
   ]
  },
  {
   "cell_type": "code",
   "execution_count": 1,
   "metadata": {},
   "outputs": [
    {
     "name": "stdout",
     "output_type": "stream",
     "text": [
      "1\n"
     ]
    }
   ],
   "source": [
    "# \n",
    "a = 11\n",
    "b = 5\n",
    "# put your code below:\n",
    "\n",
    "x = 0\n",
    "if x == a / b:\n",
    "    print ('делится')\n",
    "else:\n",
    "    print (a % b)"
   ]
  },
  {
   "cell_type": "markdown",
   "metadata": {},
   "source": [
    "5) Точка задана своими координатами $x$ и $y$. Проверить, лежит ли точка внутри единичного круга с центром в начале координат <img src=\"img/circle.jpg\">."
   ]
  },
  {
   "cell_type": "code",
   "execution_count": 4,
   "metadata": {},
   "outputs": [
    {
     "name": "stdout",
     "output_type": "stream",
     "text": [
      "точка принадлежит\n"
     ]
    }
   ],
   "source": [
    "import math\n",
    "x = 0\n",
    "y = 0\n",
    "r = 1\n",
    "# put your code below:\n",
    "\n",
    "r_xy = math.sqrt (x**2 + y**2)\n",
    "if r_xy <= r:\n",
    "    print ('точка принадлежит')\n",
    "else:\n",
    "    print ('точка не принадлежит')"
   ]
  },
  {
   "cell_type": "markdown",
   "metadata": {},
   "source": [
    "6) Даны числа $x,y,z$. Проверить, существует ли треугольник, с длинами сторон равными этим величинам."
   ]
  },
  {
   "cell_type": "code",
   "execution_count": 1,
   "metadata": {},
   "outputs": [
    {
     "name": "stdout",
     "output_type": "stream",
     "text": [
      "yes\n"
     ]
    }
   ],
   "source": [
    "x = 3\n",
    "y = 4\n",
    "z = 5\n",
    "# put your code below:\n",
    "\n",
    "if x + y > z:\n",
    "    print ('yes')\n",
    "elif x + z > y:\n",
    "    print ('yes')\n",
    "elif y + z > x:\n",
    "    print ('yes')\n",
    "else:\n",
    "    print ('no')"
   ]
  },
  {
   "cell_type": "markdown",
   "metadata": {},
   "source": [
    "7*) Дан номер дня в году (невысокосного). Написать, какой в этот день был месяц, и какой день недели если 1 января пришелся на понедельник."
   ]
  },
  {
   "cell_type": "code",
   "execution_count": 3,
   "metadata": {},
   "outputs": [
    {
     "name": "stdout",
     "output_type": "stream",
     "text": [
      "вторник\n",
      "февраль\n"
     ]
    }
   ],
   "source": [
    "n = 37\n",
    "# put your code below:\n",
    "\n",
    "for n in range (1, 50, 7):\n",
    "    if n%37 == 0:\n",
    "        print ('понедельник')\n",
    "for n in range (2, 50, 7):\n",
    "    if n%37 == 0:\n",
    "        print ('вторник')\n",
    "        \n",
    "x = 31\n",
    "y = x + 28\n",
    "z = y + 31\n",
    "\n",
    "if n < x:\n",
    "    print ('январь')\n",
    "elif n > x and n < y:\n",
    "    print ('февраль')\n",
    "elif n > z:\n",
    "    print ('март')"
   ]
  },
  {
   "cell_type": "code",
   "execution_count": null,
   "metadata": {},
   "outputs": [],
   "source": []
  }
 ],
 "metadata": {
  "kernelspec": {
   "display_name": "Python 3",
   "language": "python",
   "name": "python3"
  },
  "language_info": {
   "codemirror_mode": {
    "name": "ipython",
    "version": 3
   },
   "file_extension": ".py",
   "mimetype": "text/x-python",
   "name": "python",
   "nbconvert_exporter": "python",
   "pygments_lexer": "ipython3",
   "version": "3.6.6"
  }
 },
 "nbformat": 4,
 "nbformat_minor": 1
}
