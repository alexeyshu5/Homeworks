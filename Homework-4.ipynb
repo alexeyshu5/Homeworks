{
 "cells": [
  {
   "cell_type": "markdown",
   "metadata": {},
   "source": [
    "1)Напишите программу, которая выводит n звездочек в столбик по заданному n."
   ]
  },
  {
   "cell_type": "code",
   "execution_count": 23,
   "metadata": {},
   "outputs": [
    {
     "name": "stdout",
     "output_type": "stream",
     "text": [
      "*\n",
      "*\n",
      "*\n",
      "*\n",
      "*\n",
      "*\n",
      "*\n",
      "*\n",
      "*\n",
      "*\n",
      "*\n"
     ]
    }
   ],
   "source": [
    "n = 10\n",
    "for i in range (n + 1):\n",
    "    print (\"*\")"
   ]
  },
  {
   "cell_type": "markdown",
   "metadata": {},
   "source": [
    "2)Напишите программу, которая выводит n звездочек в строчку по заданному n"
   ]
  },
  {
   "cell_type": "code",
   "execution_count": 25,
   "metadata": {},
   "outputs": [
    {
     "name": "stdout",
     "output_type": "stream",
     "text": [
      "**********\n",
      "* * * * * * * * * *\n"
     ]
    }
   ],
   "source": [
    "n = 10\n",
    "for i in range (n + 1):\n",
    "    i = \"*\"\n",
    "print (\"*\" * n)\n",
    "print (i, i, i, i, i, i, i, i, i, i)"
   ]
  },
  {
   "cell_type": "code",
   "execution_count": 3,
   "metadata": {},
   "outputs": [
    {
     "name": "stdout",
     "output_type": "stream",
     "text": [
      "*-*-*-*-*-*-*-*-*-*-"
     ]
    }
   ],
   "source": [
    "n = 10\n",
    "for i in range (n):\n",
    "    print (\"*\", end=\"-\")"
   ]
  },
  {
   "cell_type": "markdown",
   "metadata": {},
   "source": [
    "3)По заданным m и n вывести прямоугольник из звездочек, в котором n строк и m столбцов"
   ]
  },
  {
   "cell_type": "code",
   "execution_count": 1,
   "metadata": {},
   "outputs": [
    {
     "name": "stdout",
     "output_type": "stream",
     "text": [
      "**********\n",
      "**********\n",
      "**********\n",
      "**********\n",
      "**********\n"
     ]
    }
   ],
   "source": [
    "n = 5\n",
    "m = 10\n",
    "for i in range (n):\n",
    "    print (\"*\" * m) #или перечислить i через запятую 10 раз)"
   ]
  },
  {
   "cell_type": "code",
   "execution_count": 1,
   "metadata": {},
   "outputs": [
    {
     "name": "stdout",
     "output_type": "stream",
     "text": [
      "* * * * * * * * * * *\n",
      "* * * * * * * * * * *\n",
      "* * * * * * * * * * *\n",
      "* * * * * * * * * * *\n",
      "* * * * * * * * * * *\n"
     ]
    }
   ],
   "source": [
    "n = 5\n",
    "m = 10\n",
    "for i in range (n):\n",
    "    for j in range (m):\n",
    "        print (\"*\", end=\" \")\n",
    "    print (\"*\")"
   ]
  },
  {
   "cell_type": "markdown",
   "metadata": {},
   "source": [
    "4)Написать программу, которая по заданному n выводит \"левостороннюю пирамидку\""
   ]
  },
  {
   "cell_type": "code",
   "execution_count": 4,
   "metadata": {},
   "outputs": [
    {
     "name": "stdout",
     "output_type": "stream",
     "text": [
      "*\n",
      "* *\n",
      "* * *\n",
      "* * * *\n",
      "* * * * *\n",
      "* * * * * *\n",
      "* * * * * * *\n",
      "* * * * * * * *\n",
      "* * * * * * * * *\n",
      "* * * * * * * * * *\n",
      "* * * * * * * * * * *\n"
     ]
    }
   ],
   "source": [
    "n = 10\n",
    "for i in range (n + 1):\n",
    "    for j in range (i):\n",
    "        print (\"*\", end = \" \")\n",
    "    print (\"*\")"
   ]
  },
  {
   "cell_type": "markdown",
   "metadata": {},
   "source": [
    "5)Написать программу, которая по заданному n выдает \"правостороннюю пирамидку\""
   ]
  },
  {
   "cell_type": "code",
   "execution_count": 10,
   "metadata": {},
   "outputs": [
    {
     "name": "stdout",
     "output_type": "stream",
     "text": [
      "*\n",
      "0 *\n",
      "0 1 *\n",
      "0 1 2 *\n",
      "0 1 2 3 *\n",
      "0 1 2 3 4 *\n",
      "0 1 2 3 4 5 *\n",
      "0 1 2 3 4 5 6 *\n",
      "0 1 2 3 4 5 6 7 *\n",
      "0 1 2 3 4 5 6 7 8 *\n",
      "0 1 2 3 4 5 6 7 8 9 *\n"
     ]
    }
   ],
   "source": [
    "n = 10\n",
    "\n",
    "for i in range ()"
   ]
  },
  {
   "cell_type": "markdown",
   "metadata": {},
   "source": [
    "6)Написать программу, которая по заданному n выводит \"перевернутую левостороннюю пирамидку\"."
   ]
  },
  {
   "cell_type": "code",
   "execution_count": 5,
   "metadata": {},
   "outputs": [
    {
     "name": "stdout",
     "output_type": "stream",
     "text": [
      "* * * * * * * * * *\n",
      "* * * * * * * * *\n",
      "* * * * * * * *\n",
      "* * * * * * *\n",
      "* * * * * *\n",
      "* * * * *\n",
      "* * * *\n",
      "* * *\n",
      "* *\n",
      "*\n"
     ]
    }
   ],
   "source": [
    "n = 10\n",
    "for ???:\n",
    "    ???\n",
    "    print ???"
   ]
  },
  {
   "cell_type": "markdown",
   "metadata": {},
   "source": [
    "7)Написать программу, которая по заданному n выводит \"перевернутую правостороннюю пирамидку\"."
   ]
  },
  {
   "cell_type": "code",
   "execution_count": 11,
   "metadata": {},
   "outputs": [
    {
     "name": "stdout",
     "output_type": "stream",
     "text": [
      "* * * * * * * * * *\n",
      "  * * * * * * * * *\n",
      "    * * * * * * * *\n",
      "      * * * * * * *\n",
      "        * * * * * *\n",
      "          * * * * *\n",
      "            * * * *\n",
      "              * * *\n",
      "                * *\n",
      "                  *\n"
     ]
    }
   ],
   "source": [
    "n = 10\n",
    "for ???:\n",
    "    ???\n",
    "    print ???"
   ]
  },
  {
   "cell_type": "markdown",
   "metadata": {},
   "source": [
    "8)По заданному n вывести квадрат из следующих цифр:"
   ]
  },
  {
   "cell_type": "code",
   "execution_count": 9,
   "metadata": {},
   "outputs": [
    {
     "name": "stdout",
     "output_type": "stream",
     "text": [
      "0 1 2 3 4 5 6 7 \n",
      "0 1 2 3 4 5 6 7 \n",
      "0 1 2 3 4 5 6 7 \n",
      "0 1 2 3 4 5 6 7 \n",
      "0 1 2 3 4 5 6 7 \n",
      "0 1 2 3 4 5 6 7 \n",
      "0 1 2 3 4 5 6 7 \n",
      "0 1 2 3 4 5 6 7 \n"
     ]
    }
   ],
   "source": [
    "n = 8\n",
    "for i in range (0, 8):\n",
    "    for j in range (0, 8):\n",
    "        print (j, end= \" \")\n",
    "    print ()"
   ]
  },
  {
   "cell_type": "markdown",
   "metadata": {},
   "source": [
    "По заданному n вывести левосторонний треугольник из следующих цифр:"
   ]
  },
  {
   "cell_type": "code",
   "execution_count": 4,
   "metadata": {},
   "outputs": [
    {
     "name": "stdout",
     "output_type": "stream",
     "text": [
      "\n",
      "0 \n",
      "0 1 \n",
      "0 1 2 \n",
      "0 1 2 3 \n",
      "0 1 2 3 4 \n",
      "0 1 2 3 4 5 \n",
      "0 1 2 3 4 5 6 \n",
      "0 1 2 3 4 5 6 7 \n",
      "0 1 2 3 4 5 6 7 8 \n",
      "0 1 2 3 4 5 6 7 8 9 \n"
     ]
    }
   ],
   "source": [
    "n = 10\n",
    "for i in range (0, 11):\n",
    "    for j in range ((i + 1) - 1):\n",
    "        print (j, end=\" \")\n",
    "    print()"
   ]
  },
  {
   "cell_type": "markdown",
   "metadata": {},
   "source": [
    "По заданному n вывести правосторонний треугольник из следующих цифр:"
   ]
  },
  {
   "cell_type": "code",
   "execution_count": 7,
   "metadata": {},
   "outputs": [],
   "source": [
    "n = 10\n"
   ]
  },
  {
   "cell_type": "markdown",
   "metadata": {},
   "source": [
    "По заданному n вывести перевернутый левосторонний треугольник из следующих цифр:"
   ]
  },
  {
   "cell_type": "code",
   "execution_count": 20,
   "metadata": {},
   "outputs": [
    {
     "name": "stdout",
     "output_type": "stream",
     "text": [
      "9 9 9 9 9 9 9 9 9 9\n",
      "8 8 8 8 8 8 8 8 8\n",
      "7 7 7 7 7 7 7 7\n",
      "6 6 6 6 6 6 6\n",
      "5 5 5 5 5 5\n",
      "4 4 4 4 4\n",
      "3 3 3 3\n",
      "2 2 2\n",
      "1 1\n",
      "0\n"
     ]
    }
   ],
   "source": [
    "n = 10\n",
    "???"
   ]
  },
  {
   "cell_type": "markdown",
   "metadata": {},
   "source": [
    "По заданному n вывести перевернутый правосторонний треугольник из следующих цифр:"
   ]
  },
  {
   "cell_type": "code",
   "execution_count": 21,
   "metadata": {},
   "outputs": [
    {
     "name": "stdout",
     "output_type": "stream",
     "text": [
      "0 1 2 3 4 5 6 7 8 9\n",
      "  0 1 2 3 4 5 6 7 8\n",
      "    0 1 2 3 4 5 6 7\n",
      "      0 1 2 3 4 5 6\n",
      "        0 1 2 3 4 5\n",
      "          0 1 2 3 4\n",
      "            0 1 2 3\n",
      "              0 1 2\n",
      "                0 1\n",
      "                  0\n"
     ]
    }
   ],
   "source": [
    "n = 10\n",
    "???"
   ]
  },
  {
   "cell_type": "markdown",
   "metadata": {},
   "source": [
    "По заданному n вывести перевернутый правосторонний треугольник из следующих цифр:"
   ]
  },
  {
   "cell_type": "code",
   "execution_count": 24,
   "metadata": {},
   "outputs": [
    {
     "name": "stdout",
     "output_type": "stream",
     "text": [
      "0 1 2 3 4 5 6 7 8 9\n",
      "  1 2 3 4 5 6 7 8 9\n",
      "    2 3 4 5 6 7 8 9\n",
      "      3 4 5 6 7 8 9\n",
      "        4 5 6 7 8 9\n",
      "          5 6 7 8 9\n",
      "            6 7 8 9\n",
      "              7 8 9\n",
      "                8 9\n",
      "                  9\n"
     ]
    }
   ],
   "source": [
    "n = 10\n",
    "???"
   ]
  },
  {
   "cell_type": "markdown",
   "metadata": {},
   "source": [
    "По заданному n вывести квадрат из следующих цифр:"
   ]
  },
  {
   "cell_type": "code",
   "execution_count": 28,
   "metadata": {},
   "outputs": [
    {
     "name": "stdout",
     "output_type": "stream",
     "text": [
      "0 \t1 \t2 \t3 \t4 \t5 \t6 \t7 \t\n",
      "1 \t2 \t3 \t4 \t5 \t6 \t7 \t8 \t\n",
      "2 \t3 \t4 \t5 \t6 \t7 \t8 \t9 \t\n",
      "3 \t4 \t5 \t6 \t7 \t8 \t9 \t10 \t\n",
      "4 \t5 \t6 \t7 \t8 \t9 \t10 \t11 \t\n",
      "5 \t6 \t7 \t8 \t9 \t10 \t11 \t12 \t\n",
      "6 \t7 \t8 \t9 \t10 \t11 \t12 \t13 \t\n",
      "7 \t8 \t9 \t10 \t11 \t12 \t13 \t14 \t\n"
     ]
    }
   ],
   "source": [
    "n = 8\n",
    "???"
   ]
  },
  {
   "cell_type": "markdown",
   "metadata": {},
   "source": [
    "Вывести по заданному n центральный треугольник с цифрами"
   ]
  },
  {
   "cell_type": "code",
   "execution_count": 32,
   "metadata": {},
   "outputs": [
    {
     "name": "stdout",
     "output_type": "stream",
     "text": [
      "              0\n",
      "            0 1 0\n",
      "          0 1 2 1 0\n",
      "        0 1 2 3 2 1 0\n",
      "      0 1 2 3 4 3 2 1 0\n",
      "    0 1 2 3 4 5 4 3 2 1 0\n",
      "  0 1 2 3 4 5 6 5 4 3 2 1 0\n",
      "0 1 2 3 4 5 6 7 6 5 4 3 2 1 0\n"
     ]
    }
   ],
   "source": [
    "n = 8\n",
    "for ???:\n",
    "    ???"
   ]
  },
  {
   "cell_type": "markdown",
   "metadata": {},
   "source": [
    "Вывести ромбик из цифр"
   ]
  },
  {
   "cell_type": "code",
   "execution_count": 53,
   "metadata": {},
   "outputs": [
    {
     "name": "stdout",
     "output_type": "stream",
     "text": [
      "              0\n",
      "            0 1 0\n",
      "          0 1 2 1 0\n",
      "        0 1 2 3 2 1 0\n",
      "      0 1 2 3 4 3 2 1 0\n",
      "    0 1 2 3 4 5 4 3 2 1 0\n",
      "  0 1 2 3 4 5 6 5 4 3 2 1 0\n",
      "0 1 2 3 4 5 6 7 6 5 4 3 2 1 0\n",
      "  0 1 2 3 4 5 6 5 4 3 2 1 0\n",
      "    0 1 2 3 4 5 4 3 2 1 0\n",
      "      0 1 2 3 4 3 2 1 0\n",
      "        0 1 2 3 2 1 0\n",
      "          0 1 2 1 0\n",
      "            0 1 0\n",
      "              0\n"
     ]
    }
   ],
   "source": [
    "n = 8\n",
    "for ???:\n",
    "    ???\n",
    "???\n",
    "for ???:\n",
    "    ???"
   ]
  },
  {
   "cell_type": "code",
   "execution_count": null,
   "metadata": {},
   "outputs": [],
   "source": []
  }
 ],
 "metadata": {
  "kernelspec": {
   "display_name": "Python 3",
   "language": "python",
   "name": "python3"
  },
  "language_info": {
   "codemirror_mode": {
    "name": "ipython",
    "version": 3
   },
   "file_extension": ".py",
   "mimetype": "text/x-python",
   "name": "python",
   "nbconvert_exporter": "python",
   "pygments_lexer": "ipython3",
   "version": "3.6.6"
  }
 },
 "nbformat": 4,
 "nbformat_minor": 1
}
